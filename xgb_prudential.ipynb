{
 "cells": [
  {
   "cell_type": "markdown",
   "metadata": {
    "collapsed": true,
    "pycharm": {
     "name": "#%% md\n"
    }
   },
   "source": [
    " # Application of XGBoost classification to Prudential data"
   ]
  },
  {
   "cell_type": "markdown",
   "source": [
    "In this workbook an application of XGBoost to predict the risk level of Applicant\n",
    "for life insurance."
   ],
   "metadata": {
    "collapsed": false
   }
  },
  {
   "cell_type": "markdown",
   "source": [
    "The prudential life insurance company as given a dataset as a part of compitetion to\n",
    "predict the risk level of an applicant."
   ],
   "metadata": {
    "collapsed": false,
    "pycharm": {
     "name": "#%% md\n"
    }
   }
  },
  {
   "cell_type": "code",
   "execution_count": 67,
   "outputs": [],
   "source": [
    "import pandas as pd\n",
    "import matplotlib.pyplot as plt\n",
    "from sklearn.model_selection import train_test_split, cross_val_predict\n",
    "from sklearn.svm import SVC\n",
    "from sklearn.ensemble import RandomForestClassifier\n",
    "from sklearn.neighbors import KNeighborsClassifier\n",
    "from sklearn.naive_bayes import GaussianNB\n",
    "from sklearn.decomposition import PCA\n",
    "from xgboost import XGBClassifier\n",
    "from sklearn.preprocessing import LabelEncoder, MinMaxScaler\n",
    "from sklearn.model_selection import GridSearchCV\n",
    "import time\n",
    "from imblearn.over_sampling import SMOTE\n",
    "import seaborn as sns\n",
    "import warnings\n",
    "from sklearn.preprocessing import MaxAbsScaler\n",
    "warnings.filterwarnings(\"ignore\", category=DeprecationWarning)\n",
    "%matplotlib inline\n",
    "\n",
    "SMALL_SIZE = 10\n",
    "MEDIUM_SIZE = 12\n",
    "\n",
    "plt.rc('font', size=SMALL_SIZE)\n",
    "plt.rc('axes', titlesize=MEDIUM_SIZE)\n",
    "plt.rc('axes', labelsize=MEDIUM_SIZE)\n",
    "plt.rcParams['figure.dpi']=150"
   ],
   "metadata": {
    "collapsed": false,
    "pycharm": {
     "name": "#%%\n"
    }
   }
  },
  {
   "cell_type": "code",
   "execution_count": 68,
   "outputs": [
    {
     "data": {
      "text/plain": "   Id  Product_Info_1 Product_Info_2  Product_Info_3  Product_Info_4  \\\n0   2               1             D3              10        0.076923   \n1   5               1             A1              26        0.076923   \n2   6               1             E1              26        0.076923   \n3   7               1             D4              10        0.487179   \n4   8               1             D2              26        0.230769   \n\n   Product_Info_5  Product_Info_6  Product_Info_7   Ins_Age        Ht  ...  \\\n0               2               1               1  0.641791  0.581818  ...   \n1               2               3               1  0.059701  0.600000  ...   \n2               2               3               1  0.029851  0.745455  ...   \n3               2               3               1  0.164179  0.672727  ...   \n4               2               3               1  0.417910  0.654545  ...   \n\n   Medical_Keyword_40  Medical_Keyword_41  Medical_Keyword_42  \\\n0                   0                   0                   0   \n1                   0                   0                   0   \n2                   0                   0                   0   \n3                   0                   0                   0   \n4                   0                   0                   0   \n\n   Medical_Keyword_43  Medical_Keyword_44  Medical_Keyword_45  \\\n0                   0                   0                   0   \n1                   0                   0                   0   \n2                   0                   0                   0   \n3                   0                   0                   0   \n4                   0                   0                   0   \n\n   Medical_Keyword_46  Medical_Keyword_47  Medical_Keyword_48  Response  \n0                   0                   0                   0         8  \n1                   0                   0                   0         4  \n2                   0                   0                   0         8  \n3                   0                   0                   0         8  \n4                   0                   0                   0         8  \n\n[5 rows x 128 columns]",
      "text/html": "<div>\n<style scoped>\n    .dataframe tbody tr th:only-of-type {\n        vertical-align: middle;\n    }\n\n    .dataframe tbody tr th {\n        vertical-align: top;\n    }\n\n    .dataframe thead th {\n        text-align: right;\n    }\n</style>\n<table border=\"1\" class=\"dataframe\">\n  <thead>\n    <tr style=\"text-align: right;\">\n      <th></th>\n      <th>Id</th>\n      <th>Product_Info_1</th>\n      <th>Product_Info_2</th>\n      <th>Product_Info_3</th>\n      <th>Product_Info_4</th>\n      <th>Product_Info_5</th>\n      <th>Product_Info_6</th>\n      <th>Product_Info_7</th>\n      <th>Ins_Age</th>\n      <th>Ht</th>\n      <th>...</th>\n      <th>Medical_Keyword_40</th>\n      <th>Medical_Keyword_41</th>\n      <th>Medical_Keyword_42</th>\n      <th>Medical_Keyword_43</th>\n      <th>Medical_Keyword_44</th>\n      <th>Medical_Keyword_45</th>\n      <th>Medical_Keyword_46</th>\n      <th>Medical_Keyword_47</th>\n      <th>Medical_Keyword_48</th>\n      <th>Response</th>\n    </tr>\n  </thead>\n  <tbody>\n    <tr>\n      <th>0</th>\n      <td>2</td>\n      <td>1</td>\n      <td>D3</td>\n      <td>10</td>\n      <td>0.076923</td>\n      <td>2</td>\n      <td>1</td>\n      <td>1</td>\n      <td>0.641791</td>\n      <td>0.581818</td>\n      <td>...</td>\n      <td>0</td>\n      <td>0</td>\n      <td>0</td>\n      <td>0</td>\n      <td>0</td>\n      <td>0</td>\n      <td>0</td>\n      <td>0</td>\n      <td>0</td>\n      <td>8</td>\n    </tr>\n    <tr>\n      <th>1</th>\n      <td>5</td>\n      <td>1</td>\n      <td>A1</td>\n      <td>26</td>\n      <td>0.076923</td>\n      <td>2</td>\n      <td>3</td>\n      <td>1</td>\n      <td>0.059701</td>\n      <td>0.600000</td>\n      <td>...</td>\n      <td>0</td>\n      <td>0</td>\n      <td>0</td>\n      <td>0</td>\n      <td>0</td>\n      <td>0</td>\n      <td>0</td>\n      <td>0</td>\n      <td>0</td>\n      <td>4</td>\n    </tr>\n    <tr>\n      <th>2</th>\n      <td>6</td>\n      <td>1</td>\n      <td>E1</td>\n      <td>26</td>\n      <td>0.076923</td>\n      <td>2</td>\n      <td>3</td>\n      <td>1</td>\n      <td>0.029851</td>\n      <td>0.745455</td>\n      <td>...</td>\n      <td>0</td>\n      <td>0</td>\n      <td>0</td>\n      <td>0</td>\n      <td>0</td>\n      <td>0</td>\n      <td>0</td>\n      <td>0</td>\n      <td>0</td>\n      <td>8</td>\n    </tr>\n    <tr>\n      <th>3</th>\n      <td>7</td>\n      <td>1</td>\n      <td>D4</td>\n      <td>10</td>\n      <td>0.487179</td>\n      <td>2</td>\n      <td>3</td>\n      <td>1</td>\n      <td>0.164179</td>\n      <td>0.672727</td>\n      <td>...</td>\n      <td>0</td>\n      <td>0</td>\n      <td>0</td>\n      <td>0</td>\n      <td>0</td>\n      <td>0</td>\n      <td>0</td>\n      <td>0</td>\n      <td>0</td>\n      <td>8</td>\n    </tr>\n    <tr>\n      <th>4</th>\n      <td>8</td>\n      <td>1</td>\n      <td>D2</td>\n      <td>26</td>\n      <td>0.230769</td>\n      <td>2</td>\n      <td>3</td>\n      <td>1</td>\n      <td>0.417910</td>\n      <td>0.654545</td>\n      <td>...</td>\n      <td>0</td>\n      <td>0</td>\n      <td>0</td>\n      <td>0</td>\n      <td>0</td>\n      <td>0</td>\n      <td>0</td>\n      <td>0</td>\n      <td>0</td>\n      <td>8</td>\n    </tr>\n  </tbody>\n</table>\n<p>5 rows × 128 columns</p>\n</div>"
     },
     "execution_count": 68,
     "metadata": {},
     "output_type": "execute_result"
    }
   ],
   "source": [
    "data = pd.read_csv(\"train_prud.csv\")\n",
    "data.head()"
   ],
   "metadata": {
    "collapsed": false,
    "pycharm": {
     "name": "#%%\n"
    }
   }
  },
  {
   "cell_type": "code",
   "execution_count": 69,
   "outputs": [
    {
     "data": {
      "text/plain": "393103"
     },
     "execution_count": 69,
     "metadata": {},
     "output_type": "execute_result"
    }
   ],
   "source": [
    "data.isnull().sum().sum()"
   ],
   "metadata": {
    "collapsed": false,
    "pycharm": {
     "name": "#%%\n"
    }
   }
  },
  {
   "cell_type": "markdown",
   "source": [
    "There are a total of 393101 missing values in the dataset including all the columns.\n",
    "One of the advantage of XGBoost is the training and testing accuracy would not be\n",
    "affected by missing values in data unlike some linear models."
   ],
   "metadata": {
    "collapsed": false,
    "pycharm": {
     "name": "#%% md\n"
    }
   }
  },
  {
   "cell_type": "code",
   "execution_count": 70,
   "outputs": [
    {
     "data": {
      "text/plain": "                 Id  Product_Info_1  Product_Info_3  Product_Info_4  \\\ncount  59381.000000    59381.000000    59381.000000    59381.000000   \nmean   39507.211515        1.026355       24.415655        0.328952   \nstd    22815.883089        0.160191        5.072885        0.282562   \nmin        2.000000        1.000000        1.000000        0.000000   \n25%    19780.000000        1.000000       26.000000        0.076923   \n50%    39487.000000        1.000000       26.000000        0.230769   \n75%    59211.000000        1.000000       26.000000        0.487179   \nmax    79146.000000        2.000000       38.000000        1.000000   \n\n       Product_Info_5  Product_Info_6  Product_Info_7       Ins_Age  \\\ncount    59381.000000    59381.000000    59381.000000  59381.000000   \nmean         2.006955        2.673599        1.043583      0.405567   \nstd          0.083107        0.739103        0.291949      0.197190   \nmin          2.000000        1.000000        1.000000      0.000000   \n25%          2.000000        3.000000        1.000000      0.238806   \n50%          2.000000        3.000000        1.000000      0.402985   \n75%          2.000000        3.000000        1.000000      0.567164   \nmax          3.000000        3.000000        3.000000      1.000000   \n\n                 Ht            Wt  ...  Medical_Keyword_40  \\\ncount  59381.000000  59381.000000  ...        59381.000000   \nmean       0.707283      0.292587  ...            0.056954   \nstd        0.074239      0.089037  ...            0.231757   \nmin        0.000000      0.000000  ...            0.000000   \n25%        0.654545      0.225941  ...            0.000000   \n50%        0.709091      0.288703  ...            0.000000   \n75%        0.763636      0.345188  ...            0.000000   \nmax        1.000000      1.000000  ...            1.000000   \n\n       Medical_Keyword_41  Medical_Keyword_42  Medical_Keyword_43  \\\ncount        59381.000000        59381.000000        59381.000000   \nmean             0.010054            0.045536            0.010710   \nstd              0.099764            0.208479            0.102937   \nmin              0.000000            0.000000            0.000000   \n25%              0.000000            0.000000            0.000000   \n50%              0.000000            0.000000            0.000000   \n75%              0.000000            0.000000            0.000000   \nmax              1.000000            1.000000            1.000000   \n\n       Medical_Keyword_44  Medical_Keyword_45  Medical_Keyword_46  \\\ncount        59381.000000        59381.000000        59381.000000   \nmean             0.007528            0.013691            0.008488   \nstd              0.086436            0.116207            0.091737   \nmin              0.000000            0.000000            0.000000   \n25%              0.000000            0.000000            0.000000   \n50%              0.000000            0.000000            0.000000   \n75%              0.000000            0.000000            0.000000   \nmax              1.000000            1.000000            1.000000   \n\n       Medical_Keyword_47  Medical_Keyword_48      Response  \ncount        59381.000000        59381.000000  59381.000000  \nmean             0.019905            0.054496      5.636837  \nstd              0.139676            0.226995      2.456833  \nmin              0.000000            0.000000      1.000000  \n25%              0.000000            0.000000      4.000000  \n50%              0.000000            0.000000      6.000000  \n75%              0.000000            0.000000      8.000000  \nmax              1.000000            1.000000      8.000000  \n\n[8 rows x 127 columns]",
      "text/html": "<div>\n<style scoped>\n    .dataframe tbody tr th:only-of-type {\n        vertical-align: middle;\n    }\n\n    .dataframe tbody tr th {\n        vertical-align: top;\n    }\n\n    .dataframe thead th {\n        text-align: right;\n    }\n</style>\n<table border=\"1\" class=\"dataframe\">\n  <thead>\n    <tr style=\"text-align: right;\">\n      <th></th>\n      <th>Id</th>\n      <th>Product_Info_1</th>\n      <th>Product_Info_3</th>\n      <th>Product_Info_4</th>\n      <th>Product_Info_5</th>\n      <th>Product_Info_6</th>\n      <th>Product_Info_7</th>\n      <th>Ins_Age</th>\n      <th>Ht</th>\n      <th>Wt</th>\n      <th>...</th>\n      <th>Medical_Keyword_40</th>\n      <th>Medical_Keyword_41</th>\n      <th>Medical_Keyword_42</th>\n      <th>Medical_Keyword_43</th>\n      <th>Medical_Keyword_44</th>\n      <th>Medical_Keyword_45</th>\n      <th>Medical_Keyword_46</th>\n      <th>Medical_Keyword_47</th>\n      <th>Medical_Keyword_48</th>\n      <th>Response</th>\n    </tr>\n  </thead>\n  <tbody>\n    <tr>\n      <th>count</th>\n      <td>59381.000000</td>\n      <td>59381.000000</td>\n      <td>59381.000000</td>\n      <td>59381.000000</td>\n      <td>59381.000000</td>\n      <td>59381.000000</td>\n      <td>59381.000000</td>\n      <td>59381.000000</td>\n      <td>59381.000000</td>\n      <td>59381.000000</td>\n      <td>...</td>\n      <td>59381.000000</td>\n      <td>59381.000000</td>\n      <td>59381.000000</td>\n      <td>59381.000000</td>\n      <td>59381.000000</td>\n      <td>59381.000000</td>\n      <td>59381.000000</td>\n      <td>59381.000000</td>\n      <td>59381.000000</td>\n      <td>59381.000000</td>\n    </tr>\n    <tr>\n      <th>mean</th>\n      <td>39507.211515</td>\n      <td>1.026355</td>\n      <td>24.415655</td>\n      <td>0.328952</td>\n      <td>2.006955</td>\n      <td>2.673599</td>\n      <td>1.043583</td>\n      <td>0.405567</td>\n      <td>0.707283</td>\n      <td>0.292587</td>\n      <td>...</td>\n      <td>0.056954</td>\n      <td>0.010054</td>\n      <td>0.045536</td>\n      <td>0.010710</td>\n      <td>0.007528</td>\n      <td>0.013691</td>\n      <td>0.008488</td>\n      <td>0.019905</td>\n      <td>0.054496</td>\n      <td>5.636837</td>\n    </tr>\n    <tr>\n      <th>std</th>\n      <td>22815.883089</td>\n      <td>0.160191</td>\n      <td>5.072885</td>\n      <td>0.282562</td>\n      <td>0.083107</td>\n      <td>0.739103</td>\n      <td>0.291949</td>\n      <td>0.197190</td>\n      <td>0.074239</td>\n      <td>0.089037</td>\n      <td>...</td>\n      <td>0.231757</td>\n      <td>0.099764</td>\n      <td>0.208479</td>\n      <td>0.102937</td>\n      <td>0.086436</td>\n      <td>0.116207</td>\n      <td>0.091737</td>\n      <td>0.139676</td>\n      <td>0.226995</td>\n      <td>2.456833</td>\n    </tr>\n    <tr>\n      <th>min</th>\n      <td>2.000000</td>\n      <td>1.000000</td>\n      <td>1.000000</td>\n      <td>0.000000</td>\n      <td>2.000000</td>\n      <td>1.000000</td>\n      <td>1.000000</td>\n      <td>0.000000</td>\n      <td>0.000000</td>\n      <td>0.000000</td>\n      <td>...</td>\n      <td>0.000000</td>\n      <td>0.000000</td>\n      <td>0.000000</td>\n      <td>0.000000</td>\n      <td>0.000000</td>\n      <td>0.000000</td>\n      <td>0.000000</td>\n      <td>0.000000</td>\n      <td>0.000000</td>\n      <td>1.000000</td>\n    </tr>\n    <tr>\n      <th>25%</th>\n      <td>19780.000000</td>\n      <td>1.000000</td>\n      <td>26.000000</td>\n      <td>0.076923</td>\n      <td>2.000000</td>\n      <td>3.000000</td>\n      <td>1.000000</td>\n      <td>0.238806</td>\n      <td>0.654545</td>\n      <td>0.225941</td>\n      <td>...</td>\n      <td>0.000000</td>\n      <td>0.000000</td>\n      <td>0.000000</td>\n      <td>0.000000</td>\n      <td>0.000000</td>\n      <td>0.000000</td>\n      <td>0.000000</td>\n      <td>0.000000</td>\n      <td>0.000000</td>\n      <td>4.000000</td>\n    </tr>\n    <tr>\n      <th>50%</th>\n      <td>39487.000000</td>\n      <td>1.000000</td>\n      <td>26.000000</td>\n      <td>0.230769</td>\n      <td>2.000000</td>\n      <td>3.000000</td>\n      <td>1.000000</td>\n      <td>0.402985</td>\n      <td>0.709091</td>\n      <td>0.288703</td>\n      <td>...</td>\n      <td>0.000000</td>\n      <td>0.000000</td>\n      <td>0.000000</td>\n      <td>0.000000</td>\n      <td>0.000000</td>\n      <td>0.000000</td>\n      <td>0.000000</td>\n      <td>0.000000</td>\n      <td>0.000000</td>\n      <td>6.000000</td>\n    </tr>\n    <tr>\n      <th>75%</th>\n      <td>59211.000000</td>\n      <td>1.000000</td>\n      <td>26.000000</td>\n      <td>0.487179</td>\n      <td>2.000000</td>\n      <td>3.000000</td>\n      <td>1.000000</td>\n      <td>0.567164</td>\n      <td>0.763636</td>\n      <td>0.345188</td>\n      <td>...</td>\n      <td>0.000000</td>\n      <td>0.000000</td>\n      <td>0.000000</td>\n      <td>0.000000</td>\n      <td>0.000000</td>\n      <td>0.000000</td>\n      <td>0.000000</td>\n      <td>0.000000</td>\n      <td>0.000000</td>\n      <td>8.000000</td>\n    </tr>\n    <tr>\n      <th>max</th>\n      <td>79146.000000</td>\n      <td>2.000000</td>\n      <td>38.000000</td>\n      <td>1.000000</td>\n      <td>3.000000</td>\n      <td>3.000000</td>\n      <td>3.000000</td>\n      <td>1.000000</td>\n      <td>1.000000</td>\n      <td>1.000000</td>\n      <td>...</td>\n      <td>1.000000</td>\n      <td>1.000000</td>\n      <td>1.000000</td>\n      <td>1.000000</td>\n      <td>1.000000</td>\n      <td>1.000000</td>\n      <td>1.000000</td>\n      <td>1.000000</td>\n      <td>1.000000</td>\n      <td>8.000000</td>\n    </tr>\n  </tbody>\n</table>\n<p>8 rows × 127 columns</p>\n</div>"
     },
     "execution_count": 70,
     "metadata": {},
     "output_type": "execute_result"
    }
   ],
   "source": [
    "data.describe()"
   ],
   "metadata": {
    "collapsed": false,
    "pycharm": {
     "name": "#%%\n"
    }
   }
  },
  {
   "cell_type": "markdown",
   "source": [
    "The target variable response is the level of risk associated with that particular row\n",
    "where each row represents an applicant and standings of applicant on various aspects.\n",
    "Both of missing values are in the features Medical_History_10."
   ],
   "metadata": {
    "collapsed": false
   }
  },
  {
   "cell_type": "code",
   "execution_count": 71,
   "outputs": [
    {
     "data": {
      "text/plain": "8    19489\n6    11233\n7     8027\n2     6552\n1     6207\n5     5432\n4     1428\n3     1013\nName: Response, dtype: int64"
     },
     "execution_count": 71,
     "metadata": {},
     "output_type": "execute_result"
    }
   ],
   "source": [
    "data['Response'].value_counts()\n"
   ],
   "metadata": {
    "collapsed": false,
    "pycharm": {
     "name": "#%%\n"
    }
   }
  },
  {
   "cell_type": "markdown",
   "source": [
    "The data is fairly distributed over different risk levels. The features id is just an ID of an applicant, it doesn't\n",
    "contribute to our prediction."
   ],
   "metadata": {
    "collapsed": false
   }
  },
  {
   "cell_type": "code",
   "execution_count": 72,
   "outputs": [
    {
     "data": {
      "text/plain": "   Product_Info_1 Product_Info_2  Product_Info_3  Product_Info_4  \\\n0               1             D3              10        0.076923   \n\n   Product_Info_5  Product_Info_6  Product_Info_7   Ins_Age        Ht  \\\n0               2               1               1  0.641791  0.581818   \n\n         Wt  ...  Medical_Keyword_40  Medical_Keyword_41  Medical_Keyword_42  \\\n0  0.148536  ...                   0                   0                   0   \n\n   Medical_Keyword_43  Medical_Keyword_44  Medical_Keyword_45  \\\n0                   0                   0                   0   \n\n   Medical_Keyword_46  Medical_Keyword_47  Medical_Keyword_48  Response  \n0                   0                   0                   0         8  \n\n[1 rows x 127 columns]",
      "text/html": "<div>\n<style scoped>\n    .dataframe tbody tr th:only-of-type {\n        vertical-align: middle;\n    }\n\n    .dataframe tbody tr th {\n        vertical-align: top;\n    }\n\n    .dataframe thead th {\n        text-align: right;\n    }\n</style>\n<table border=\"1\" class=\"dataframe\">\n  <thead>\n    <tr style=\"text-align: right;\">\n      <th></th>\n      <th>Product_Info_1</th>\n      <th>Product_Info_2</th>\n      <th>Product_Info_3</th>\n      <th>Product_Info_4</th>\n      <th>Product_Info_5</th>\n      <th>Product_Info_6</th>\n      <th>Product_Info_7</th>\n      <th>Ins_Age</th>\n      <th>Ht</th>\n      <th>Wt</th>\n      <th>...</th>\n      <th>Medical_Keyword_40</th>\n      <th>Medical_Keyword_41</th>\n      <th>Medical_Keyword_42</th>\n      <th>Medical_Keyword_43</th>\n      <th>Medical_Keyword_44</th>\n      <th>Medical_Keyword_45</th>\n      <th>Medical_Keyword_46</th>\n      <th>Medical_Keyword_47</th>\n      <th>Medical_Keyword_48</th>\n      <th>Response</th>\n    </tr>\n  </thead>\n  <tbody>\n    <tr>\n      <th>0</th>\n      <td>1</td>\n      <td>D3</td>\n      <td>10</td>\n      <td>0.076923</td>\n      <td>2</td>\n      <td>1</td>\n      <td>1</td>\n      <td>0.641791</td>\n      <td>0.581818</td>\n      <td>0.148536</td>\n      <td>...</td>\n      <td>0</td>\n      <td>0</td>\n      <td>0</td>\n      <td>0</td>\n      <td>0</td>\n      <td>0</td>\n      <td>0</td>\n      <td>0</td>\n      <td>0</td>\n      <td>8</td>\n    </tr>\n  </tbody>\n</table>\n<p>1 rows × 127 columns</p>\n</div>"
     },
     "execution_count": 72,
     "metadata": {},
     "output_type": "execute_result"
    }
   ],
   "source": [
    "data.drop(['Id'], axis=1, inplace=True)\n",
    "data.head(1)"
   ],
   "metadata": {
    "collapsed": false,
    "pycharm": {
     "name": "#%%\n"
    }
   }
  },
  {
   "cell_type": "code",
   "execution_count": 73,
   "outputs": [],
   "source": [
    "le = LabelEncoder()\n",
    "f_encoded = le.fit_transform(data['Product_Info_2'])\n",
    "data['Product_Info_2'] = f_encoded\n",
    "x = data.drop('Response', axis=1)\n",
    "y = data[['Response']]"
   ],
   "metadata": {
    "collapsed": false,
    "pycharm": {
     "name": "#%%\n"
    }
   }
  },
  {
   "cell_type": "code",
   "execution_count": 74,
   "outputs": [],
   "source": [
    "x_train, x_test, y_train, y_test = train_test_split(x, y, test_size=0.33)\n"
   ],
   "metadata": {
    "collapsed": false,
    "pycharm": {
     "name": "#%%\n"
    }
   }
  },
  {
   "cell_type": "code",
   "execution_count": 75,
   "outputs": [
    {
     "name": "stderr",
     "output_type": "stream",
     "text": [
      "c:\\users\\sivat\\pycharmprojects\\xgb\\venv\\lib\\site-packages\\sklearn\\utils\\validation.py:72: DataConversionWarning: A column-vector y was passed when a 1d array was expected. Please change the shape of y to (n_samples, ), for example using ravel().\n",
      "  return f(**kwargs)\n"
     ]
    },
    {
     "name": "stdout",
     "output_type": "stream",
     "text": [
      "XGBoost's prediction accuracy is: 58.89\n",
      "Time consumed for training: 36.383\n",
      "Time consumed for prediction: 0.43197 seconds\n"
     ]
    }
   ],
   "source": [
    "#XGBoost\n",
    "xgb = XGBClassifier(n_estimators=100)\n",
    "training_start = time.perf_counter()\n",
    "xgb.fit(x_train, y_train)\n",
    "training_end = time.perf_counter()\n",
    "prediction_start = time.perf_counter()\n",
    "pred = xgb.predict(x_test)\n",
    "prediction_end = time.perf_counter()\n",
    "pred = pred.reshape(y_test.shape)\n",
    "acc_xgb = (pred == y_test).sum().astype(float) / len(pred)*100\n",
    "xgb_train_time = training_end-training_start\n",
    "xgb_prediction_time = prediction_end-prediction_start\n",
    "print(\"XGBoost's prediction accuracy is: %3.2f\" % acc_xgb)\n",
    "print(\"Time consumed for training: %4.3f\" % xgb_train_time)\n",
    "print(\"Time consumed for prediction: %6.5f seconds\" % xgb_prediction_time)"
   ],
   "metadata": {
    "collapsed": false,
    "pycharm": {
     "name": "#%%\n"
    }
   }
  },
  {
   "cell_type": "markdown",
   "source": [
    "The performance can be increased by tuning the hyper parameters for XGBoost."
   ],
   "metadata": {
    "collapsed": false,
    "pycharm": {
     "name": "#%% md\n"
    }
   }
  }
 ],
 "metadata": {
  "kernelspec": {
   "display_name": "Python 3",
   "language": "python",
   "name": "python3"
  },
  "language_info": {
   "codemirror_mode": {
    "name": "ipython",
    "version": 2
   },
   "file_extension": ".py",
   "mimetype": "text/x-python",
   "name": "python",
   "nbconvert_exporter": "python",
   "pygments_lexer": "ipython2",
   "version": "2.7.6"
  }
 },
 "nbformat": 4,
 "nbformat_minor": 0
}