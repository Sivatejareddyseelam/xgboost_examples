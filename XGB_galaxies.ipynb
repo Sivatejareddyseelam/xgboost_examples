{
 "cells": [
  {
   "cell_type": "markdown",
   "source": [
    "# Sloan Digital Sky Survey Classification\n"
   ],
   "metadata": {
    "collapsed": false,
    "pycharm": {
     "name": "#%% md\n"
    }
   }
  },
  {
   "cell_type": "markdown",
   "source": [
    "Sloan Digital Sky Survey Classification\n",
    "Classification of Galaxies, Stars and Quasars using XGBoost."
   ],
   "metadata": {
    "collapsed": false
   }
  },
  {
   "cell_type": "markdown",
   "source": [
    "## About SDSS\n",
    "The Sloan Digital Sky Survey is a project which offers public data of space observations.\n",
    "These observations have been made since 1998 and open to everyone.\n",
    "Each row observes the space through different optical filters (u, g, r, i, z) at wavelengths of approximately 354,\n",
    "476, 628, 769, 925 nm.\n",
    "For more information about this - please visit their website:\n",
    "http://www.sdss.org/"
   ],
   "metadata": {
    "collapsed": false
   }
  },
  {
   "cell_type": "code",
   "execution_count": 2,
   "outputs": [],
   "source": [
    "# import libraries\n",
    "import numpy as np\n",
    "import pandas as pd\n",
    "import matplotlib.pyplot as plt\n",
    "from matplotlib import style\n",
    "from sklearn.model_selection import train_test_split, cross_val_predict\n",
    "from sklearn.svm import SVC\n",
    "from sklearn.ensemble import RandomForestClassifier\n",
    "from sklearn.linear_model import SGDClassifier\n",
    "from sklearn.neighbors import KNeighborsClassifier\n",
    "from sklearn.naive_bayes import GaussianNB\n",
    "from sklearn.decomposition import PCA\n",
    "from xgboost import XGBClassifier\n",
    "from sklearn.preprocessing import LabelEncoder, MinMaxScaler\n",
    "from sklearn.model_selection import GridSearchCV\n",
    "from sklearn.metrics import confusion_matrix, precision_score, recall_score, f1_score\n",
    "import time\n",
    "from imblearn.over_sampling import SMOTE\n",
    "import seaborn as sns\n",
    "import warnings\n",
    "from sklearn.preprocessing import MaxAbsScaler\n",
    "warnings.filterwarnings(\"ignore\", category=DeprecationWarning)\n",
    "%matplotlib inline\n",
    "\n",
    "SMALL_SIZE = 10\n",
    "MEDIUM_SIZE = 12\n",
    "\n",
    "plt.rc('font', size=SMALL_SIZE)\n",
    "plt.rc('axes', titlesize=MEDIUM_SIZE)\n",
    "plt.rc('axes', labelsize=MEDIUM_SIZE)\n",
    "plt.rcParams['figure.dpi']=150"
   ],
   "metadata": {
    "collapsed": false,
    "pycharm": {
     "name": "#%%\n"
    }
   }
  },
  {
   "cell_type": "markdown",
   "source": [
    "Feature Description\n",
    "objid = Object Identifier\n",
    "ra = J2000 Right Ascension (r-band)\n",
    "dec = J2000 Declination (r-band)\n",
    "* u = better of DeV/Exp magnitude fit\n",
    "* g = better of DeV/Exp magnitude fit\n",
    "* r = better of DeV/Exp magnitude fit\n",
    "* i = better of DeV/Exp magnitude fit\n",
    "* z = better of DeV/Exp magnitude fit\n",
    "\n",
    "The Thuan-Gunn astronomic magnitude system. u, g, r, i, z represent the response of the 5 bands of the telescope.\n",
    "\n",
    "run = Run Number\n",
    "rereun = Rerun Number\n",
    "camcol = Camera column\n",
    "field = Field number\n",
    "Run, rerun, camcol and field are features which describe a field within an image taken by the SDSS.\n",
    "A field is basically a part of the entire image corresponding to 2048 by 1489 pixels.\n",
    "A field can be identified by:\n",
    "* run number, which identifies the specific scan,\n",
    "* the camera column, or \"camcol,\" a number from 1 to 6, identifying the scanline within the run, and\n",
    "the field number.\n",
    "\n",
    "The field number typically starts at 11 (after an initial rampup time), and can be as large as 800 for particularly long runs.\n",
    "\n",
    "An additional number, rerun, specifies how the image was processed.\n",
    "* specobjid = Object Identifier\n",
    "* class = object class (galaxy, star or quasar object)\n",
    "The class identifies an object to be either a galaxy, star or quasar. This will be the response variable which we will be trying to predict.\n",
    "\n",
    "* redshift = Final Redshift\n",
    "* plate = plate number\n",
    "* mjd = MJD of observation\n",
    "* fiberid = fiber ID\n",
    "In physics, redshift happens when light or other electromagnetic radiation from an object is increased in wavelength, or shifted to the red end of the spectrum.\n",
    "\n",
    "Each spectroscopic exposure employs a large, thin, circular metal plate that positions optical fibers via holes drilled at the locations of the images in the telescope focal plane. These fibers then feed into the spectrographs. Each plate has a unique serial number, which is called plate in views such as SpecObj in the CAS.\n",
    "\n",
    "Modified Julian Date, used to indicate the date that a given piece of SDSS data (image or spectrum) was taken.\n",
    "\n",
    "The SDSS spectrograph uses optical fibers to direct the light at the focal plane from individual objects to the slithead. Each object is assigned a corresponding fiberID."
   ],
   "metadata": {
    "collapsed": false
   }
  },
  {
   "cell_type": "code",
   "execution_count": 3,
   "outputs": [
    {
     "data": {
      "text/plain": "          objid          ra       dec         u         g         r         i  \\\n0  1.237650e+18  183.531326  0.089693  19.47406  17.04240  15.94699  15.50342   \n1  1.237650e+18  183.598371  0.135285  18.66280  17.21449  16.67637  16.48922   \n2  1.237650e+18  183.680207  0.126185  19.38298  18.19169  17.47428  17.08732   \n3  1.237650e+18  183.870529  0.049911  17.76536  16.60272  16.16116  15.98233   \n4  1.237650e+18  183.883288  0.102557  17.55025  16.26342  16.43869  16.55492   \n\n          z  run  rerun  camcol  field     specobjid   class  redshift  plate  \\\n0  15.22531  752    301       4    267  3.722360e+18    STAR -0.000009   3306   \n1  16.39150  752    301       4    267  3.638140e+17    STAR -0.000055    323   \n2  16.80125  752    301       4    268  3.232740e+17  GALAXY  0.123111    287   \n3  15.90438  752    301       4    269  3.722370e+18    STAR -0.000111   3306   \n4  16.61326  752    301       4    269  3.722370e+18    STAR  0.000590   3306   \n\n     mjd  fiberid  \n0  54922      491  \n1  51615      541  \n2  52023      513  \n3  54922      510  \n4  54922      512  ",
      "text/html": "<div>\n<style scoped>\n    .dataframe tbody tr th:only-of-type {\n        vertical-align: middle;\n    }\n\n    .dataframe tbody tr th {\n        vertical-align: top;\n    }\n\n    .dataframe thead th {\n        text-align: right;\n    }\n</style>\n<table border=\"1\" class=\"dataframe\">\n  <thead>\n    <tr style=\"text-align: right;\">\n      <th></th>\n      <th>objid</th>\n      <th>ra</th>\n      <th>dec</th>\n      <th>u</th>\n      <th>g</th>\n      <th>r</th>\n      <th>i</th>\n      <th>z</th>\n      <th>run</th>\n      <th>rerun</th>\n      <th>camcol</th>\n      <th>field</th>\n      <th>specobjid</th>\n      <th>class</th>\n      <th>redshift</th>\n      <th>plate</th>\n      <th>mjd</th>\n      <th>fiberid</th>\n    </tr>\n  </thead>\n  <tbody>\n    <tr>\n      <th>0</th>\n      <td>1.237650e+18</td>\n      <td>183.531326</td>\n      <td>0.089693</td>\n      <td>19.47406</td>\n      <td>17.04240</td>\n      <td>15.94699</td>\n      <td>15.50342</td>\n      <td>15.22531</td>\n      <td>752</td>\n      <td>301</td>\n      <td>4</td>\n      <td>267</td>\n      <td>3.722360e+18</td>\n      <td>STAR</td>\n      <td>-0.000009</td>\n      <td>3306</td>\n      <td>54922</td>\n      <td>491</td>\n    </tr>\n    <tr>\n      <th>1</th>\n      <td>1.237650e+18</td>\n      <td>183.598371</td>\n      <td>0.135285</td>\n      <td>18.66280</td>\n      <td>17.21449</td>\n      <td>16.67637</td>\n      <td>16.48922</td>\n      <td>16.39150</td>\n      <td>752</td>\n      <td>301</td>\n      <td>4</td>\n      <td>267</td>\n      <td>3.638140e+17</td>\n      <td>STAR</td>\n      <td>-0.000055</td>\n      <td>323</td>\n      <td>51615</td>\n      <td>541</td>\n    </tr>\n    <tr>\n      <th>2</th>\n      <td>1.237650e+18</td>\n      <td>183.680207</td>\n      <td>0.126185</td>\n      <td>19.38298</td>\n      <td>18.19169</td>\n      <td>17.47428</td>\n      <td>17.08732</td>\n      <td>16.80125</td>\n      <td>752</td>\n      <td>301</td>\n      <td>4</td>\n      <td>268</td>\n      <td>3.232740e+17</td>\n      <td>GALAXY</td>\n      <td>0.123111</td>\n      <td>287</td>\n      <td>52023</td>\n      <td>513</td>\n    </tr>\n    <tr>\n      <th>3</th>\n      <td>1.237650e+18</td>\n      <td>183.870529</td>\n      <td>0.049911</td>\n      <td>17.76536</td>\n      <td>16.60272</td>\n      <td>16.16116</td>\n      <td>15.98233</td>\n      <td>15.90438</td>\n      <td>752</td>\n      <td>301</td>\n      <td>4</td>\n      <td>269</td>\n      <td>3.722370e+18</td>\n      <td>STAR</td>\n      <td>-0.000111</td>\n      <td>3306</td>\n      <td>54922</td>\n      <td>510</td>\n    </tr>\n    <tr>\n      <th>4</th>\n      <td>1.237650e+18</td>\n      <td>183.883288</td>\n      <td>0.102557</td>\n      <td>17.55025</td>\n      <td>16.26342</td>\n      <td>16.43869</td>\n      <td>16.55492</td>\n      <td>16.61326</td>\n      <td>752</td>\n      <td>301</td>\n      <td>4</td>\n      <td>269</td>\n      <td>3.722370e+18</td>\n      <td>STAR</td>\n      <td>0.000590</td>\n      <td>3306</td>\n      <td>54922</td>\n      <td>512</td>\n    </tr>\n  </tbody>\n</table>\n</div>"
     },
     "execution_count": 3,
     "metadata": {},
     "output_type": "execute_result"
    }
   ],
   "source": [
    "#import data\n",
    "data = pd.read_csv(\"Skyserver_SQL2_27_2018 6_51_39 PM.csv\")\n",
    "data.head()"
   ],
   "metadata": {
    "collapsed": false,
    "pycharm": {
     "name": "#%%\n"
    }
   }
  },
  {
   "cell_type": "code",
   "execution_count": 4,
   "outputs": [
    {
     "name": "stdout",
     "output_type": "stream",
     "text": [
      "<class 'pandas.core.frame.DataFrame'>\n",
      "RangeIndex: 10000 entries, 0 to 9999\n",
      "Data columns (total 18 columns):\n",
      " #   Column     Non-Null Count  Dtype  \n",
      "---  ------     --------------  -----  \n",
      " 0   objid      10000 non-null  float64\n",
      " 1   ra         10000 non-null  float64\n",
      " 2   dec        10000 non-null  float64\n",
      " 3   u          10000 non-null  float64\n",
      " 4   g          10000 non-null  float64\n",
      " 5   r          10000 non-null  float64\n",
      " 6   i          10000 non-null  float64\n",
      " 7   z          10000 non-null  float64\n",
      " 8   run        10000 non-null  int64  \n",
      " 9   rerun      10000 non-null  int64  \n",
      " 10  camcol     10000 non-null  int64  \n",
      " 11  field      10000 non-null  int64  \n",
      " 12  specobjid  10000 non-null  float64\n",
      " 13  class      10000 non-null  object \n",
      " 14  redshift   10000 non-null  float64\n",
      " 15  plate      10000 non-null  int64  \n",
      " 16  mjd        10000 non-null  int64  \n",
      " 17  fiberid    10000 non-null  int64  \n",
      "dtypes: float64(10), int64(7), object(1)\n",
      "memory usage: 1.4+ MB\n"
     ]
    }
   ],
   "source": [
    "data.info()\n"
   ],
   "metadata": {
    "collapsed": false,
    "pycharm": {
     "name": "#%%\n"
    }
   }
  },
  {
   "cell_type": "code",
   "execution_count": 5,
   "outputs": [
    {
     "data": {
      "text/plain": "              objid            ra           dec             u             g  \\\ncount  1.000000e+04  10000.000000  10000.000000  10000.000000  10000.000000   \nmean   1.237650e+18    175.529987     14.836148     18.619355     17.371931   \nstd    0.000000e+00     47.783439     25.212207      0.828656      0.945457   \nmin    1.237650e+18      8.235100     -5.382632     12.988970     12.799550   \n25%    1.237650e+18    157.370946     -0.539035     18.178035     16.815100   \n50%    1.237650e+18    180.394514      0.404166     18.853095     17.495135   \n75%    1.237650e+18    201.547279     35.649397     19.259232     18.010145   \nmax    1.237650e+18    260.884382     68.542265     19.599900     19.918970   \n\n                  r             i             z           run    rerun  \\\ncount  10000.000000  10000.000000  10000.000000  10000.000000  10000.0   \nmean      16.840963     16.583579     16.422833    981.034800    301.0   \nstd        1.067764      1.141805      1.203188    273.305024      0.0   \nmin       12.431600     11.947210     11.610410    308.000000    301.0   \n25%       16.173333     15.853705     15.618285    752.000000    301.0   \n50%       16.858770     16.554985     16.389945    756.000000    301.0   \n75%       17.512675     17.258550     17.141447   1331.000000    301.0   \nmax       24.802040     28.179630     22.833060   1412.000000    301.0   \n\n             camcol         field     specobjid      redshift         plate  \\\ncount  10000.000000  10000.000000  1.000000e+04  10000.000000  10000.000000   \nmean       3.648700    302.380100  1.645022e+18      0.143726   1460.986400   \nstd        1.666183    162.577763  2.013998e+18      0.388774   1788.778371   \nmin        1.000000     11.000000  2.995780e+17     -0.004136    266.000000   \n25%        2.000000    184.000000  3.389248e+17      0.000081    301.000000   \n50%        4.000000    299.000000  4.966580e+17      0.042591    441.000000   \n75%        5.000000    414.000000  2.881300e+18      0.092579   2559.000000   \nmax        6.000000    768.000000  9.468830e+18      5.353854   8410.000000   \n\n                mjd       fiberid  \ncount  10000.000000  10000.000000  \nmean   52943.533300    353.069400  \nstd     1511.150651    206.298149  \nmin    51578.000000      1.000000  \n25%    51900.000000    186.750000  \n50%    51997.000000    351.000000  \n75%    54468.000000    510.000000  \nmax    57481.000000   1000.000000  ",
      "text/html": "<div>\n<style scoped>\n    .dataframe tbody tr th:only-of-type {\n        vertical-align: middle;\n    }\n\n    .dataframe tbody tr th {\n        vertical-align: top;\n    }\n\n    .dataframe thead th {\n        text-align: right;\n    }\n</style>\n<table border=\"1\" class=\"dataframe\">\n  <thead>\n    <tr style=\"text-align: right;\">\n      <th></th>\n      <th>objid</th>\n      <th>ra</th>\n      <th>dec</th>\n      <th>u</th>\n      <th>g</th>\n      <th>r</th>\n      <th>i</th>\n      <th>z</th>\n      <th>run</th>\n      <th>rerun</th>\n      <th>camcol</th>\n      <th>field</th>\n      <th>specobjid</th>\n      <th>redshift</th>\n      <th>plate</th>\n      <th>mjd</th>\n      <th>fiberid</th>\n    </tr>\n  </thead>\n  <tbody>\n    <tr>\n      <th>count</th>\n      <td>1.000000e+04</td>\n      <td>10000.000000</td>\n      <td>10000.000000</td>\n      <td>10000.000000</td>\n      <td>10000.000000</td>\n      <td>10000.000000</td>\n      <td>10000.000000</td>\n      <td>10000.000000</td>\n      <td>10000.000000</td>\n      <td>10000.0</td>\n      <td>10000.000000</td>\n      <td>10000.000000</td>\n      <td>1.000000e+04</td>\n      <td>10000.000000</td>\n      <td>10000.000000</td>\n      <td>10000.000000</td>\n      <td>10000.000000</td>\n    </tr>\n    <tr>\n      <th>mean</th>\n      <td>1.237650e+18</td>\n      <td>175.529987</td>\n      <td>14.836148</td>\n      <td>18.619355</td>\n      <td>17.371931</td>\n      <td>16.840963</td>\n      <td>16.583579</td>\n      <td>16.422833</td>\n      <td>981.034800</td>\n      <td>301.0</td>\n      <td>3.648700</td>\n      <td>302.380100</td>\n      <td>1.645022e+18</td>\n      <td>0.143726</td>\n      <td>1460.986400</td>\n      <td>52943.533300</td>\n      <td>353.069400</td>\n    </tr>\n    <tr>\n      <th>std</th>\n      <td>0.000000e+00</td>\n      <td>47.783439</td>\n      <td>25.212207</td>\n      <td>0.828656</td>\n      <td>0.945457</td>\n      <td>1.067764</td>\n      <td>1.141805</td>\n      <td>1.203188</td>\n      <td>273.305024</td>\n      <td>0.0</td>\n      <td>1.666183</td>\n      <td>162.577763</td>\n      <td>2.013998e+18</td>\n      <td>0.388774</td>\n      <td>1788.778371</td>\n      <td>1511.150651</td>\n      <td>206.298149</td>\n    </tr>\n    <tr>\n      <th>min</th>\n      <td>1.237650e+18</td>\n      <td>8.235100</td>\n      <td>-5.382632</td>\n      <td>12.988970</td>\n      <td>12.799550</td>\n      <td>12.431600</td>\n      <td>11.947210</td>\n      <td>11.610410</td>\n      <td>308.000000</td>\n      <td>301.0</td>\n      <td>1.000000</td>\n      <td>11.000000</td>\n      <td>2.995780e+17</td>\n      <td>-0.004136</td>\n      <td>266.000000</td>\n      <td>51578.000000</td>\n      <td>1.000000</td>\n    </tr>\n    <tr>\n      <th>25%</th>\n      <td>1.237650e+18</td>\n      <td>157.370946</td>\n      <td>-0.539035</td>\n      <td>18.178035</td>\n      <td>16.815100</td>\n      <td>16.173333</td>\n      <td>15.853705</td>\n      <td>15.618285</td>\n      <td>752.000000</td>\n      <td>301.0</td>\n      <td>2.000000</td>\n      <td>184.000000</td>\n      <td>3.389248e+17</td>\n      <td>0.000081</td>\n      <td>301.000000</td>\n      <td>51900.000000</td>\n      <td>186.750000</td>\n    </tr>\n    <tr>\n      <th>50%</th>\n      <td>1.237650e+18</td>\n      <td>180.394514</td>\n      <td>0.404166</td>\n      <td>18.853095</td>\n      <td>17.495135</td>\n      <td>16.858770</td>\n      <td>16.554985</td>\n      <td>16.389945</td>\n      <td>756.000000</td>\n      <td>301.0</td>\n      <td>4.000000</td>\n      <td>299.000000</td>\n      <td>4.966580e+17</td>\n      <td>0.042591</td>\n      <td>441.000000</td>\n      <td>51997.000000</td>\n      <td>351.000000</td>\n    </tr>\n    <tr>\n      <th>75%</th>\n      <td>1.237650e+18</td>\n      <td>201.547279</td>\n      <td>35.649397</td>\n      <td>19.259232</td>\n      <td>18.010145</td>\n      <td>17.512675</td>\n      <td>17.258550</td>\n      <td>17.141447</td>\n      <td>1331.000000</td>\n      <td>301.0</td>\n      <td>5.000000</td>\n      <td>414.000000</td>\n      <td>2.881300e+18</td>\n      <td>0.092579</td>\n      <td>2559.000000</td>\n      <td>54468.000000</td>\n      <td>510.000000</td>\n    </tr>\n    <tr>\n      <th>max</th>\n      <td>1.237650e+18</td>\n      <td>260.884382</td>\n      <td>68.542265</td>\n      <td>19.599900</td>\n      <td>19.918970</td>\n      <td>24.802040</td>\n      <td>28.179630</td>\n      <td>22.833060</td>\n      <td>1412.000000</td>\n      <td>301.0</td>\n      <td>6.000000</td>\n      <td>768.000000</td>\n      <td>9.468830e+18</td>\n      <td>5.353854</td>\n      <td>8410.000000</td>\n      <td>57481.000000</td>\n      <td>1000.000000</td>\n    </tr>\n  </tbody>\n</table>\n</div>"
     },
     "execution_count": 5,
     "metadata": {},
     "output_type": "execute_result"
    }
   ],
   "source": [
    "data.describe()"
   ],
   "metadata": {
    "collapsed": false,
    "pycharm": {
     "name": "#%%\n"
    }
   }
  },
  {
   "cell_type": "markdown",
   "source": [
    "There are no missing values in the data. All the variables are numerical values except for the class which is the label to predict.\n",
    "So the class variable as to be encoded so that the algos can efficiently handle the data for classifications."
   ],
   "metadata": {
    "collapsed": false
   }
  },
  {
   "cell_type": "code",
   "execution_count": 6,
   "outputs": [
    {
     "data": {
      "text/plain": "GALAXY    4998\nSTAR      4152\nQSO        850\nName: class, dtype: int64"
     },
     "execution_count": 6,
     "metadata": {},
     "output_type": "execute_result"
    }
   ],
   "source": [
    "data['class'].value_counts()\n"
   ],
   "metadata": {
    "collapsed": false,
    "pycharm": {
     "name": "#%%\n"
    }
   }
  },
  {
   "cell_type": "markdown",
   "source": [
    "The class variable has more data about galaxies and stars when compared quasars. Since\n",
    "quasars are rare in the sky when compared to the amount of galaxies and stars."
   ],
   "metadata": {
    "collapsed": false,
    "pycharm": {
     "name": "#%% md\n"
    }
   }
  },
  {
   "cell_type": "markdown",
   "source": [
    "Feature filtering\n",
    "\n",
    "objid and specobjid are just identifiers.\n",
    "\n",
    "The features 'run', 'rerun', 'camcol' and 'field' are values which describe parts of the camera.\n",
    "These features doesn't contribute to the model for classification."
   ],
   "metadata": {
    "collapsed": false,
    "pycharm": {
     "name": "#%% md\n"
    }
   }
  },
  {
   "cell_type": "code",
   "execution_count": 7,
   "outputs": [
    {
     "data": {
      "text/plain": "           ra       dec         u        g         r         i         z  \\\n0  183.531326  0.089693  19.47406  17.0424  15.94699  15.50342  15.22531   \n\n  class  redshift  plate    mjd  fiberid  \n0  STAR -0.000009   3306  54922      491  ",
      "text/html": "<div>\n<style scoped>\n    .dataframe tbody tr th:only-of-type {\n        vertical-align: middle;\n    }\n\n    .dataframe tbody tr th {\n        vertical-align: top;\n    }\n\n    .dataframe thead th {\n        text-align: right;\n    }\n</style>\n<table border=\"1\" class=\"dataframe\">\n  <thead>\n    <tr style=\"text-align: right;\">\n      <th></th>\n      <th>ra</th>\n      <th>dec</th>\n      <th>u</th>\n      <th>g</th>\n      <th>r</th>\n      <th>i</th>\n      <th>z</th>\n      <th>class</th>\n      <th>redshift</th>\n      <th>plate</th>\n      <th>mjd</th>\n      <th>fiberid</th>\n    </tr>\n  </thead>\n  <tbody>\n    <tr>\n      <th>0</th>\n      <td>183.531326</td>\n      <td>0.089693</td>\n      <td>19.47406</td>\n      <td>17.0424</td>\n      <td>15.94699</td>\n      <td>15.50342</td>\n      <td>15.22531</td>\n      <td>STAR</td>\n      <td>-0.000009</td>\n      <td>3306</td>\n      <td>54922</td>\n      <td>491</td>\n    </tr>\n  </tbody>\n</table>\n</div>"
     },
     "execution_count": 7,
     "metadata": {},
     "output_type": "execute_result"
    }
   ],
   "source": [
    "data.drop(['objid', 'run', 'rerun', 'camcol', 'field', 'specobjid'], axis=1, inplace=True)\n",
    "data.head(1)"
   ],
   "metadata": {
    "collapsed": false,
    "pycharm": {
     "name": "#%%\n"
    }
   }
  },
  {
   "cell_type": "code",
   "execution_count": 8,
   "outputs": [
    {
     "name": "stderr",
     "output_type": "stream",
     "text": [
      "c:\\users\\sivat\\pycharmprojects\\xgb\\venv\\lib\\site-packages\\seaborn\\distributions.py:2551: FutureWarning: `distplot` is a deprecated function and will be removed in a future version. Please adapt your code to use either `displot` (a figure-level function with similar flexibility) or `histplot` (an axes-level function for histograms).\n",
      "  warnings.warn(msg, FutureWarning)\n"
     ]
    },
    {
     "data": {
      "text/plain": "<Figure size 2400x600 with 3 Axes>",
      "image/png": "[encoded data removed]"
     },
     "metadata": {
      "needs_background": "light"
     },
     "output_type": "display_data"
    }
   ],
   "source": [
    "fig, axes = plt.subplots(nrows=1, ncols=3,figsize=(16, 4))\n",
    "ax = sns.distplot(data[data['class']=='STAR'].redshift, bins = 30, ax = axes[0], kde = False)\n",
    "ax.set_title('Star')\n",
    "ax = sns.distplot(data[data['class']=='GALAXY'].redshift, bins = 30, ax = axes[1], kde = False)\n",
    "ax.set_title('Galaxy')\n",
    "ax = sns.distplot(data[data['class']=='QSO'].redshift, bins = 30, ax = axes[2], kde = False)\n",
    "ax = ax.set_title('QSO')"
   ],
   "metadata": {
    "collapsed": false,
    "pycharm": {
     "name": "#%%\n"
    }
   }
  },
  {
   "cell_type": "markdown",
   "source": [
    "The redshift values for the classes quite different.\n",
    "\n",
    "For Stars the histogram looks like a truncated zero-centered normal distribution.\n",
    "\n",
    "For Galaxies the redshift values may come from a slightly right-shifted normal distribution which is centered around 0.075.\n",
    "\n",
    "For Quasars the redshift values for QSOs are a lot more uniformly distributed than for Stars or Galaxies. They are roughly evenly distributed from 0 to 3, than the occurences decrease drastically.\n",
    "\n",
    "The redshift is an estimate for the distance from the earth to a object.\n",
    "\n",
    "Hence the distplot tells us that most of the stars observed are somewhat closer to the earth than galaxies or quasars. Galaxies tend to be a little further away and quasars are distant from very close to very far.\n",
    "\n",
    "This particular feature redshift contribute more for classification."
   ],
   "metadata": {
    "collapsed": false
   }
  },
  {
   "cell_type": "code",
   "execution_count": 9,
   "outputs": [
    {
     "data": {
      "text/plain": "Text(0.5, 1.0, 'dec')"
     },
     "execution_count": 9,
     "metadata": {},
     "output_type": "execute_result"
    },
    {
     "data": {
      "text/plain": "<Figure size 2400x600 with 1 Axes>",
      "image/png": "[encoded data removed]"
     },
     "metadata": {
      "needs_background": "light"
     },
     "output_type": "display_data"
    }
   ],
   "source": [
    "fig, axes = plt.subplots(nrows=1, ncols=1,figsize=(16, 4))\n",
    "ax = sns.boxenplot(x=data['class'], y=data['dec'], palette='coolwarm')\n",
    "ax.set_title('dec')"
   ],
   "metadata": {
    "collapsed": false,
    "pycharm": {
     "name": "#%%\n"
    }
   }
  },
  {
   "cell_type": "markdown",
   "source": [
    "u, g, r, i, z represent the different wavelengths which are used to capture the observations."
   ],
   "metadata": {
    "collapsed": false
   }
  },
  {
   "cell_type": "code",
   "execution_count": 10,
   "outputs": [
    {
     "data": {
      "text/plain": "<Figure size 1600x400 with 6 Axes>",
      "image/png": "[encoded data removed]"
     },
     "metadata": {
      "needs_background": "light"
     },
     "output_type": "display_data"
    }
   ],
   "source": [
    "fig, axes = plt.subplots(nrows=1, ncols=3,figsize=(16, 4))\n",
    "fig.set_dpi(100)\n",
    "ax = sns.heatmap(data[data['class']=='STAR'][['u', 'g', 'r', 'i', 'z']].corr(), ax = axes[0], cmap='coolwarm')\n",
    "ax.set_title('Star')\n",
    "ax = sns.heatmap(data[data['class']=='GALAXY'][['u', 'g', 'r', 'i', 'z']].corr(), ax = axes[1], cmap='coolwarm')\n",
    "ax.set_title('Galaxy')\n",
    "ax = sns.heatmap(data[data['class']=='QSO'][['u', 'g', 'r', 'i', 'z']].corr(), ax = axes[2], cmap='coolwarm')\n",
    "ax = ax.set_title('QSO')"
   ],
   "metadata": {
    "collapsed": false,
    "pycharm": {
     "name": "#%%\n"
    }
   }
  },
  {
   "cell_type": "markdown",
   "source": [
    "The heatmaps look similar but not identical, since only certain objects are observed at certain wavelengths of light.\n",
    "As the features u, g, r, i, z all corresponds to wavelength of the light obsereved. So, PCA can be used to reduce these into\n",
    "lower dimensions without loss of significant data."
   ],
   "metadata": {
    "collapsed": false
   }
  },
  {
   "cell_type": "code",
   "execution_count": 11,
   "outputs": [],
   "source": [
    "le = LabelEncoder()\n",
    "y_encoded = le.fit_transform(data['class'])\n",
    "data['class'] = y_encoded\n",
    "pca = PCA(n_components=3)\n",
    "ugriz = pca.fit_transform(data[['u', 'g', 'r', 'i', 'z']])\n",
    "\n",
    "# update dataframe\n",
    "data = pd.concat((data, pd.DataFrame(ugriz)), axis=1)\n",
    "data.rename({0: 'PCA_1', 1: 'PCA_2', 2: 'PCA_3'}, axis=1, inplace = True)\n",
    "data.drop(['u', 'g', 'r', 'i', 'z'], axis=1, inplace=True)\n",
    "data.head()\n",
    "x = MinMaxScaler().fit_transform(data.drop('class', axis=1))\n",
    "y = data[['class']]"
   ],
   "metadata": {
    "collapsed": false,
    "pycharm": {
     "name": "#%%\n"
    }
   }
  },
  {
   "cell_type": "markdown",
   "source": [
    "Since quasars make up to only 10% of the total data, this imbalanced dataset which\n",
    "result poor generalisation, so balancing this dataset will lead to better generalisation."
   ],
   "metadata": {
    "collapsed": false
   }
  },
  {
   "cell_type": "code",
   "execution_count": 12,
   "outputs": [],
   "source": [
    "oversample = SMOTE()\n",
    "x, y = oversample.fit_resample(x, y)\n",
    "x_train, x_test, y_train, y_test = train_test_split(x, y, test_size=0.33)"
   ],
   "metadata": {
    "collapsed": false,
    "pycharm": {
     "name": "#%%\n"
    }
   }
  },
  {
   "cell_type": "code",
   "execution_count": 13,
   "outputs": [
    {
     "name": "stderr",
     "output_type": "stream",
     "text": [
      "<ipython-input-13-9addf0c05190>:4: DataConversionWarning: A column-vector y was passed when a 1d array was expected. Please change the shape of y to (n_samples, ), for example using ravel().\n",
      "  knn.fit(x_train, y_train)\n"
     ]
    },
    {
     "name": "stdout",
     "output_type": "stream",
     "text": [
      "Scikit-Learn's K Nearest Neighbors Classifier's prediction accuracy is: 94.85\n",
      "Time consumed for training: 0.065 seconds\n",
      "Time consumed for prediction: 0.33697 seconds\n"
     ]
    }
   ],
   "source": [
    "#KNN\n",
    "knn = KNeighborsClassifier()\n",
    "training_start = time.perf_counter()\n",
    "knn.fit(x_train, y_train)\n",
    "training_end = time.perf_counter()\n",
    "prediction_start = time.perf_counter()\n",
    "pred = knn.predict(x_test)\n",
    "pred = pred.reshape(y_test.shape)\n",
    "prediction_end = time.perf_counter()\n",
    "acc_knn = (pred == y_test).sum().astype(float) / len(pred)*100\n",
    "knn_train_time = training_end-training_start\n",
    "knn_prediction_time = prediction_end-prediction_start\n",
    "print(\"Scikit-Learn's K Nearest Neighbors Classifier's prediction accuracy is: %3.2f\" % acc_knn)\n",
    "print(\"Time consumed for training: %4.3f seconds\" % knn_train_time)\n",
    "print(\"Time consumed for prediction: %6.5f seconds\" % knn_prediction_time)"
   ],
   "metadata": {
    "collapsed": false,
    "pycharm": {
     "name": "#%%\n"
    }
   }
  },
  {
   "cell_type": "code",
   "execution_count": 14,
   "outputs": [
    {
     "name": "stdout",
     "output_type": "stream",
     "text": [
      "Scikit-Learn's Gaussian Naive Bayes Classifier's prediction accuracy is: 97.37\n",
      "Time consumed for training: 0.036 seconds\n",
      "Time consumed for prediction: 0.00271 seconds\n"
     ]
    },
    {
     "name": "stderr",
     "output_type": "stream",
     "text": [
      "c:\\users\\sivat\\pycharmprojects\\xgb\\venv\\lib\\site-packages\\sklearn\\utils\\validation.py:72: DataConversionWarning: A column-vector y was passed when a 1d array was expected. Please change the shape of y to (n_samples, ), for example using ravel().\n",
      "  return f(**kwargs)\n"
     ]
    }
   ],
   "source": [
    "#Guassina Naive Bayes\n",
    "x = MaxAbsScaler().fit_transform(x)\n",
    "x_train_gnb, x_test_gnb, y_train_gnb, y_test_gnb = train_test_split(x, y, test_size=0.33)\n",
    "\n",
    "gnb = GaussianNB()\n",
    "gnb = GaussianNB()\n",
    "training_start = time.perf_counter()\n",
    "gnb.fit(x_train_gnb, y_train_gnb)\n",
    "training_end = time.perf_counter()\n",
    "prediction_start = time.perf_counter()\n",
    "pred = gnb.predict(x_test_gnb)\n",
    "prediction_end = time.perf_counter()\n",
    "pred = pred.reshape(y_test.shape)\n",
    "acc_gnb = (pred == y_test_gnb).sum().astype(float) / len(pred)*100\n",
    "gnb_train_time = training_end-training_start\n",
    "gnb_prediction_time = prediction_end-prediction_start\n",
    "print(\"Scikit-Learn's Gaussian Naive Bayes Classifier's prediction accuracy is: %3.2f\" % acc_gnb)\n",
    "print(\"Time consumed for training: %4.3f seconds\" % gnb_train_time)\n",
    "print(\"Time consumed for prediction: %6.5f seconds\" % gnb_prediction_time)"
   ],
   "metadata": {
    "collapsed": false,
    "pycharm": {
     "name": "#%%\n"
    }
   }
  },
  {
   "cell_type": "code",
   "execution_count": 15,
   "outputs": [
    {
     "name": "stderr",
     "output_type": "stream",
     "text": [
      "c:\\users\\sivat\\pycharmprojects\\xgb\\venv\\lib\\site-packages\\sklearn\\utils\\validation.py:72: DataConversionWarning: A column-vector y was passed when a 1d array was expected. Please change the shape of y to (n_samples, ), for example using ravel().\n",
      "  return f(**kwargs)\n"
     ]
    },
    {
     "name": "stdout",
     "output_type": "stream",
     "text": [
      "XGBoost's prediction accuracy is: 99.25\n",
      "Time consumed for training: 1.508\n",
      "Time consumed for prediction: 0.01711 seconds\n"
     ]
    }
   ],
   "source": [
    "#XGBoost\n",
    "xgb = XGBClassifier(n_estimators=100)\n",
    "training_start = time.perf_counter()\n",
    "xgb.fit(x_train, y_train)\n",
    "training_end = time.perf_counter()\n",
    "prediction_start = time.perf_counter()\n",
    "pred = xgb.predict(x_test)\n",
    "prediction_end = time.perf_counter()\n",
    "pred = pred.reshape(y_test.shape)\n",
    "acc_xgb = (pred == y_test).sum().astype(float) / len(pred)*100\n",
    "xgb_train_time = training_end-training_start\n",
    "xgb_prediction_time = prediction_end-prediction_start\n",
    "print(\"XGBoost's prediction accuracy is: %3.2f\" % acc_xgb)\n",
    "print(\"Time consumed for training: %4.3f\" % xgb_train_time)\n",
    "print(\"Time consumed for prediction: %6.5f seconds\" % xgb_prediction_time)"
   ],
   "metadata": {
    "collapsed": false,
    "pycharm": {
     "name": "#%%\n"
    }
   }
  },
  {
   "cell_type": "code",
   "execution_count": 16,
   "outputs": [
    {
     "name": "stderr",
     "output_type": "stream",
     "text": [
      "<ipython-input-16-24f689651f22>:3: DataConversionWarning: A column-vector y was passed when a 1d array was expected. Please change the shape of y to (n_samples,), for example using ravel().\n",
      "  rfc.fit(x_train, y_train)\n"
     ]
    },
    {
     "name": "stdout",
     "output_type": "stream",
     "text": [
      "Scikit-Learn's Random Forest Classifier's prediction accuracy is: 99.07\n",
      "Time consumed for training: 0.271 seconds\n",
      "Time consumed for prediction: 0.00762 seconds\n"
     ]
    }
   ],
   "source": [
    "rfc = RandomForestClassifier(n_estimators=10)\n",
    "training_start = time.perf_counter()\n",
    "rfc.fit(x_train, y_train)\n",
    "training_end = time.perf_counter()\n",
    "prediction_start = time.perf_counter()\n",
    "pred = rfc.predict(x_test)\n",
    "prediction_end = time.perf_counter()\n",
    "pred = pred.reshape(y_test.shape)\n",
    "acc_rfc = (pred == y_test).sum().astype(float) / len(pred)*100\n",
    "rfc_train_time = training_end-training_start\n",
    "rfc_prediction_time = prediction_end-prediction_start\n",
    "print(\"Scikit-Learn's Random Forest Classifier's prediction accuracy is: %3.2f\" % acc_rfc)\n",
    "print(\"Time consumed for training: %4.3f seconds\" % rfc_train_time)\n",
    "print(\"Time consumed for prediction: %6.5f seconds\" % rfc_prediction_time)"
   ],
   "metadata": {
    "collapsed": false,
    "pycharm": {
     "name": "#%%\n"
    }
   }
  },
  {
   "cell_type": "code",
   "execution_count": 17,
   "outputs": [
    {
     "name": "stderr",
     "output_type": "stream",
     "text": [
      "c:\\users\\sivat\\pycharmprojects\\xgb\\venv\\lib\\site-packages\\sklearn\\utils\\validation.py:72: DataConversionWarning: A column-vector y was passed when a 1d array was expected. Please change the shape of y to (n_samples, ), for example using ravel().\n",
      "  return f(**kwargs)\n"
     ]
    },
    {
     "name": "stdout",
     "output_type": "stream",
     "text": [
      "Scikit-Learn's Support Vector Machine Classifier's prediction accuracy is: 95.88\n",
      "Time consumed for training: 0.883 seconds\n",
      "Time consumed for prediction: 0.29023 seconds\n"
     ]
    }
   ],
   "source": [
    "svc = SVC()\n",
    "training_start = time.perf_counter()\n",
    "svc.fit(x_train, y_train)\n",
    "training_end = time.perf_counter()\n",
    "prediction_start = time.perf_counter()\n",
    "pred = svc.predict(x_test)\n",
    "prediction_end = time.perf_counter()\n",
    "pred = pred.reshape(y_test.shape)\n",
    "acc_svc = (pred == y_test).sum().astype(float) / len(pred)*100\n",
    "svc_train_time = training_end-training_start\n",
    "svc_prediction_time = prediction_end-prediction_start\n",
    "print(\"Scikit-Learn's Support Vector Machine Classifier's prediction accuracy is: %3.2f\" % acc_svc)\n",
    "print(\"Time consumed for training: %4.3f seconds\" % svc_train_time)\n",
    "print(\"Time consumed for prediction: %6.5f seconds\" % svc_prediction_time)"
   ],
   "metadata": {
    "collapsed": false,
    "pycharm": {
     "name": "#%%\n"
    }
   }
  },
  {
   "cell_type": "code",
   "execution_count": 18,
   "outputs": [
    {
     "data": {
      "text/plain": "           Model      Score  Runtime Training  Runtime Prediction\n0        XGBoost  99.252374          1.507785            0.017107\n1  Random Forest  99.070519          0.270587            0.007619\n2    Naive Bayes  97.373207          0.035903            0.002715\n3            SVC  95.877955          0.882786            0.290232\n4            KNN  94.847444          0.065469            0.336968",
      "text/html": "<div>\n<style scoped>\n    .dataframe tbody tr th:only-of-type {\n        vertical-align: middle;\n    }\n\n    .dataframe tbody tr th {\n        vertical-align: top;\n    }\n\n    .dataframe thead th {\n        text-align: right;\n    }\n</style>\n<table border=\"1\" class=\"dataframe\">\n  <thead>\n    <tr style=\"text-align: right;\">\n      <th></th>\n      <th>Model</th>\n      <th>Score</th>\n      <th>Runtime Training</th>\n      <th>Runtime Prediction</th>\n    </tr>\n  </thead>\n  <tbody>\n    <tr>\n      <th>0</th>\n      <td>XGBoost</td>\n      <td>99.252374</td>\n      <td>1.507785</td>\n      <td>0.017107</td>\n    </tr>\n    <tr>\n      <th>1</th>\n      <td>Random Forest</td>\n      <td>99.070519</td>\n      <td>0.270587</td>\n      <td>0.007619</td>\n    </tr>\n    <tr>\n      <th>2</th>\n      <td>Naive Bayes</td>\n      <td>97.373207</td>\n      <td>0.035903</td>\n      <td>0.002715</td>\n    </tr>\n    <tr>\n      <th>3</th>\n      <td>SVC</td>\n      <td>95.877955</td>\n      <td>0.882786</td>\n      <td>0.290232</td>\n    </tr>\n    <tr>\n      <th>4</th>\n      <td>KNN</td>\n      <td>94.847444</td>\n      <td>0.065469</td>\n      <td>0.336968</td>\n    </tr>\n  </tbody>\n</table>\n</div>"
     },
     "execution_count": 18,
     "metadata": {},
     "output_type": "execute_result"
    }
   ],
   "source": [
    "results = pd.DataFrame({\n",
    "    'Model': ['KNN', 'Naive Bayes',\n",
    "              'XGBoost', 'Random Forest', 'SVC'],\n",
    "    'Score': [float(acc_knn), float(acc_gnb), float(acc_xgb), float(acc_rfc), float(acc_svc)],\n",
    "    'Runtime Training': [knn_train_time, gnb_train_time, xgb_train_time, rfc_train_time,\n",
    "                         svc_train_time],\n",
    "    'Runtime Prediction': [knn_prediction_time, gnb_prediction_time, xgb_prediction_time, rfc_prediction_time,\n",
    "                          svc_prediction_time]})\n",
    "result_df = results.sort_values(by='Score', ascending=False)\n",
    "result_df = result_df.reset_index(drop=True)\n",
    "result_df"
   ],
   "metadata": {
    "collapsed": false,
    "pycharm": {
     "name": "#%%\n"
    }
   }
  },
  {
   "cell_type": "code",
   "execution_count": 19,
   "outputs": [
    {
     "data": {
      "text/plain": "    Feature  Importance\n2  redshift    0.706970\n7     PCA_2    0.200411\n8     PCA_3    0.039454\n6     PCA_1    0.024141\n0        ra    0.006957\n3     plate    0.006923\n5   fiberid    0.005862\n1       dec    0.005317\n4       mjd    0.003965",
      "text/html": "<div>\n<style scoped>\n    .dataframe tbody tr th:only-of-type {\n        vertical-align: middle;\n    }\n\n    .dataframe tbody tr th {\n        vertical-align: top;\n    }\n\n    .dataframe thead th {\n        text-align: right;\n    }\n</style>\n<table border=\"1\" class=\"dataframe\">\n  <thead>\n    <tr style=\"text-align: right;\">\n      <th></th>\n      <th>Feature</th>\n      <th>Importance</th>\n    </tr>\n  </thead>\n  <tbody>\n    <tr>\n      <th>2</th>\n      <td>redshift</td>\n      <td>0.706970</td>\n    </tr>\n    <tr>\n      <th>7</th>\n      <td>PCA_2</td>\n      <td>0.200411</td>\n    </tr>\n    <tr>\n      <th>8</th>\n      <td>PCA_3</td>\n      <td>0.039454</td>\n    </tr>\n    <tr>\n      <th>6</th>\n      <td>PCA_1</td>\n      <td>0.024141</td>\n    </tr>\n    <tr>\n      <th>0</th>\n      <td>ra</td>\n      <td>0.006957</td>\n    </tr>\n    <tr>\n      <th>3</th>\n      <td>plate</td>\n      <td>0.006923</td>\n    </tr>\n    <tr>\n      <th>5</th>\n      <td>fiberid</td>\n      <td>0.005862</td>\n    </tr>\n    <tr>\n      <th>1</th>\n      <td>dec</td>\n      <td>0.005317</td>\n    </tr>\n    <tr>\n      <th>4</th>\n      <td>mjd</td>\n      <td>0.003965</td>\n    </tr>\n  </tbody>\n</table>\n</div>"
     },
     "execution_count": 19,
     "metadata": {},
     "output_type": "execute_result"
    }
   ],
   "source": [
    "importance = pd.DataFrame({\n",
    "    'Feature': data.drop('class', axis=1).columns,\n",
    "    'Importance': xgb.feature_importances_\n",
    "})\n",
    "importance = importance.sort_values(by='Importance', ascending=False)\n",
    "importance"
   ],
   "metadata": {
    "collapsed": false,
    "pycharm": {
     "name": "#%%\n"
    }
   }
  },
  {
   "cell_type": "code",
   "execution_count": 20,
   "outputs": [
    {
     "data": {
      "text/plain": "<AxesSubplot:>"
     },
     "execution_count": 20,
     "metadata": {},
     "output_type": "execute_result"
    },
    {
     "data": {
      "text/plain": "<Figure size 900x600 with 1 Axes>",
      "image/png": "[encoded data removed]"
     },
     "metadata": {
      "needs_background": "light"
     },
     "output_type": "display_data"
    }
   ],
   "source": [
    "importance.plot.bar()"
   ],
   "metadata": {
    "collapsed": false,
    "pycharm": {
     "name": "#%%\n"
    }
   }
  },
  {
   "cell_type": "code",
   "execution_count": 33,
   "outputs": [
    {
     "name": "stderr",
     "output_type": "stream",
     "text": [
      "c:\\users\\sivat\\pycharmprojects\\xgb\\venv\\lib\\site-packages\\sklearn\\model_selection\\_search.py:847: FutureWarning: The parameter 'iid' is deprecated in 0.22 and will be removed in 0.24.\n",
      "  warnings.warn(\n"
     ]
    },
    {
     "name": "stdout",
     "output_type": "stream",
     "text": [
      "[14:56:00] WARNING: C:\\Users\\Administrator\\workspace\\xgboost-win64_release_1.2.0\\src\\learner.cc:516: \n",
      "Parameters: { scale_pos_weight } might not be used.\n",
      "\n",
      "  This may not be accurate due to some parameters are only used in language bindings but\n",
      "  passed down to XGBoost core.  Or some parameters are not used but slip through this\n",
      "  verification. Please open an issue if you find above cases.\n",
      "\n",
      "\n"
     ]
    },
    {
     "data": {
      "text/plain": "({'max_depth': 5, 'min_child_weight': 1}, 0.9942994997498749)"
     },
     "execution_count": 33,
     "metadata": {},
     "output_type": "execute_result"
    }
   ],
   "source": [
    "#Hyperparamters tuning for XGBoost.\n",
    "param_test1 = {\n",
    " 'max_depth':range(3,10,1),\n",
    " 'min_child_weight':range(1,6,1)\n",
    "}\n",
    "gsearch_1 = GridSearchCV(estimator = XGBClassifier( learning_rate =0.1, n_estimators=140, max_depth=5,\n",
    " min_child_weight=1, gamma=0, subsample=0.8, colsample_bytree=0.8,nthread=4, scale_pos_weight=1, seed=27),\n",
    " param_grid = param_test1, scoring='accuracy',n_jobs=4,iid=False, cv=5)\n",
    "gsearch_1.fit(x_train,y_train)\n",
    "gsearch_1.best_params_, gsearch_1.best_score_"
   ],
   "metadata": {
    "collapsed": false,
    "pycharm": {
     "name": "#%%\n"
    }
   }
  },
  {
   "cell_type": "code",
   "execution_count": 34,
   "outputs": [
    {
     "name": "stderr",
     "output_type": "stream",
     "text": [
      "c:\\users\\sivat\\pycharmprojects\\xgb\\venv\\lib\\site-packages\\sklearn\\model_selection\\_search.py:847: FutureWarning: The parameter 'iid' is deprecated in 0.22 and will be removed in 0.24.\n",
      "  warnings.warn(\n"
     ]
    },
    {
     "name": "stdout",
     "output_type": "stream",
     "text": [
      "[14:57:20] WARNING: C:\\Users\\Administrator\\workspace\\xgboost-win64_release_1.2.0\\src\\learner.cc:516: \n",
      "Parameters: { scale_pos_weight } might not be used.\n",
      "\n",
      "  This may not be accurate due to some parameters are only used in language bindings but\n",
      "  passed down to XGBoost core.  Or some parameters are not used but slip through this\n",
      "  verification. Please open an issue if you find above cases.\n",
      "\n",
      "\n"
     ]
    },
    {
     "data": {
      "text/plain": "({'max_depth': 5, 'min_child_weight': 1}, 0.9942994997498749)"
     },
     "execution_count": 34,
     "metadata": {},
     "output_type": "execute_result"
    }
   ],
   "source": [
    "param_test1 = {\n",
    " 'max_depth':[4, 5, 6],\n",
    " 'min_child_weight':[1, 2, 3]\n",
    "}\n",
    "gsearch_1 = GridSearchCV(estimator = XGBClassifier( learning_rate =0.1, n_estimators=140, max_depth=5,\n",
    " min_child_weight=1, gamma=0, subsample=0.8, colsample_bytree=0.8,nthread=4, scale_pos_weight=1, seed=27),\n",
    " param_grid = param_test1, scoring='accuracy',n_jobs=4,iid=False, cv=5)\n",
    "gsearch_1.fit(x_train,y_train)\n",
    "gsearch_1.best_params_, gsearch_1.best_score_"
   ],
   "metadata": {
    "collapsed": false,
    "pycharm": {
     "name": "#%%\n"
    }
   }
  },
  {
   "cell_type": "code",
   "execution_count": 36,
   "outputs": [
    {
     "name": "stderr",
     "output_type": "stream",
     "text": [
      "c:\\users\\sivat\\pycharmprojects\\xgb\\venv\\lib\\site-packages\\sklearn\\model_selection\\_search.py:847: FutureWarning: The parameter 'iid' is deprecated in 0.22 and will be removed in 0.24.\n",
      "  warnings.warn(\n"
     ]
    },
    {
     "name": "stdout",
     "output_type": "stream",
     "text": [
      "[14:59:07] WARNING: C:\\Users\\Administrator\\workspace\\xgboost-win64_release_1.2.0\\src\\learner.cc:516: \n",
      "Parameters: { scale_pos_weight } might not be used.\n",
      "\n",
      "  This may not be accurate due to some parameters are only used in language bindings but\n",
      "  passed down to XGBoost core.  Or some parameters are not used but slip through this\n",
      "  verification. Please open an issue if you find above cases.\n",
      "\n",
      "\n"
     ]
    },
    {
     "data": {
      "text/plain": "({'gamma': 0.0}, 0.9942994997498749)"
     },
     "execution_count": 36,
     "metadata": {},
     "output_type": "execute_result"
    }
   ],
   "source": [
    "param_test3 = {\n",
    " 'gamma':[i/10.0 for i in range(0,5)]\n",
    "}\n",
    "gsearch_3 = GridSearchCV(estimator = XGBClassifier( learning_rate =0.1, n_estimators=140, max_depth=5,\n",
    " min_child_weight=1, gamma=0, subsample=0.8, colsample_bytree=0.8,\n",
    " nthread=4, scale_pos_weight=1,seed=27),\n",
    " param_grid = param_test3, scoring='accuracy',n_jobs=4,iid=False, cv=5)\n",
    "gsearch_3.fit(x_train,y_train)\n",
    "gsearch_3.best_params_, gsearch_3.best_score_"
   ],
   "metadata": {
    "collapsed": false,
    "pycharm": {
     "name": "#%%\n"
    }
   }
  },
  {
   "cell_type": "markdown",
   "source": [
    "The best parameters for prediction as found by the tuning tests are:\n",
    "\n",
    "* max_depth = 5\n",
    "* min_child_weight = 1\n",
    "* gamma = 0\n",
    "* subsample = 0.8\n",
    "* colsample_bytree = 0.8\n",
    "* reg_alpha = 0.005"
   ],
   "metadata": {
    "collapsed": false
   }
  },
  {
   "cell_type": "code",
   "execution_count": 29,
   "outputs": [],
   "source": [
    "x_train, x_test, y_train, y_test = train_test_split(data.drop('class', axis=1), data['class'],\n",
    "                                                   test_size=0.33)"
   ],
   "metadata": {
    "collapsed": false,
    "pycharm": {
     "name": "#%%\n"
    }
   }
  },
  {
   "cell_type": "code",
   "execution_count": 41,
   "outputs": [
    {
     "name": "stdout",
     "output_type": "stream",
     "text": [
      "[15:06:51] WARNING: C:\\Users\\Administrator\\workspace\\xgboost-win64_release_1.2.0\\src\\learner.cc:516: \n",
      "Parameters: { scale_pos_weight } might not be used.\n",
      "\n",
      "  This may not be accurate due to some parameters are only used in language bindings but\n",
      "  passed down to XGBoost core.  Or some parameters are not used but slip through this\n",
      "  verification. Please open an issue if you find above cases.\n",
      "\n",
      "\n",
      "XGBoost's prediction accuracy WITH optimal hyperparameters is: 99.27\n"
     ]
    }
   ],
   "source": [
    "xgboost = XGBClassifier(max_depth=5, learning_rate=0.1, n_estimators=140, gamma=0,\n",
    "                        min_child_weight=1, subsample=0.8, colsample_bytree=0.8, nthread=4, scale_pos_weight=1,seed=27)\n",
    "xgboost.fit(x_train, y_train)\n",
    "pred = xgboost.predict(x_test)\n",
    "pred = pred.reshape(y_test.shape)\n",
    "accuracy = (pred == y_test).sum().astype(float) / len(pred)*100\n",
    "\n",
    "print(\"XGBoost's prediction accuracy WITH optimal hyperparameters is: %3.2f\" % accuracy)"
   ],
   "metadata": {
    "collapsed": false,
    "pycharm": {
     "name": "#%%\n"
    }
   }
  }
 ],
 "metadata": {
  "kernelspec": {
   "display_name": "Python 3",
   "language": "python",
   "name": "python3"
  },
  "language_info": {
   "codemirror_mode": {
    "name": "ipython",
    "version": 2
   },
   "file_extension": ".py",
   "mimetype": "text/x-python",
   "name": "python",
   "nbconvert_exporter": "python",
   "pygments_lexer": "ipython2",
   "version": "2.7.6"
  }
 },
 "nbformat": 4,
 "nbformat_minor": 0
}